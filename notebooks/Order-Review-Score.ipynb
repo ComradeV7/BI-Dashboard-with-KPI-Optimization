{
 "cells": [
  {
   "cell_type": "code",
   "execution_count": 15,
   "id": "541682e4-a59c-460b-b730-dff26ac56cf6",
   "metadata": {},
   "outputs": [
    {
     "name": "stdout",
     "output_type": "stream",
     "text": [
      "Data prepared.\n"
     ]
    }
   ],
   "source": [
    "import pandas as pd\n",
    "import numpy as np\n",
    "from sklearn.model_selection import train_test_split, GridSearchCV, RandomizedSearchCV\n",
    "from sklearn.preprocessing import StandardScaler, OneHotEncoder\n",
    "from sklearn.compose import ColumnTransformer\n",
    "from sklearn.pipeline import Pipeline\n",
    "from sklearn.linear_model import LogisticRegression\n",
    "from sklearn.ensemble import RandomForestClassifier\n",
    "import xgboost as xgb\n",
    "from sklearn.metrics import classification_report\n",
    "from sklearn.impute import SimpleImputer\n",
    "\n",
    "df = pd.read_csv('data/olist_prepared_dataset.csv')\n",
    "df.dropna(subset=['review_score'], inplace=True)\n",
    "\n",
    "numerical_features = ['delivery_delay', 'payment_value', 'freight_value', 'product_weight_g']\n",
    "categorical_features = ['product_category_name_english', 'payment_type', 'seller_state']\n",
    "target = 'review_score'\n",
    "\n",
    "X = df[numerical_features + categorical_features]\n",
    "y_original = df[target]\n",
    "\n",
    "# Remap the target labels to be zero-indexed (from 1-5 to 0-4)\n",
    "y = y_original - 1\n",
    "\n",
    "# Preprocessing pipelines with imputation\n",
    "numerical_transformer = Pipeline(steps=[('imputer', SimpleImputer(strategy='median')), ('scaler', StandardScaler())])\n",
    "categorical_transformer = Pipeline(steps=[('imputer', SimpleImputer(strategy='most_frequent')), ('onehot', OneHotEncoder(handle_unknown='ignore'))])\n",
    "preprocessor = ColumnTransformer(transformers=[('num', numerical_transformer, numerical_features), ('cat', categorical_transformer, categorical_features)])\n",
    "\n",
    "# Data Splitting (stratified to maintain class proportions)\n",
    "X_train, X_test, y_train, y_test = train_test_split(X, y, test_size=0.2, random_state=42, stratify=y)\n",
    "\n",
    "# Define human-readable labels for the final report\n",
    "class_labels = ['1 Star', '2 Stars', '3 Stars', '4 Stars', '5 Stars']\n",
    "\n",
    "print(\"Data prepared.\")"
   ]
  },
  {
   "cell_type": "code",
   "execution_count": 16,
   "id": "324fa4f9-3c42-440b-aaf5-6e0701de965a",
   "metadata": {},
   "outputs": [
    {
     "name": "stdout",
     "output_type": "stream",
     "text": [
      "\n",
      "--- Evaluation for Logistic Regression ---\n",
      "              precision    recall  f1-score   support\n",
      "\n",
      "           0       0.35      0.41      0.38      2573\n",
      "           1       0.05      0.01      0.02       768\n",
      "           2       0.13      0.02      0.03      1907\n",
      "           3       0.25      0.01      0.01      4363\n",
      "           4       0.62      0.90      0.73     13031\n",
      "\n",
      "    accuracy                           0.57     22642\n",
      "   macro avg       0.28      0.27      0.23     22642\n",
      "weighted avg       0.45      0.57      0.47     22642\n",
      "\n"
     ]
    }
   ],
   "source": [
    "# Model 1: Logistic Regression\n",
    "pipeline_lr = Pipeline(steps=[('preprocessor', preprocessor),\n",
    "                              ('classifier', LogisticRegression(multi_class='ovr', solver='liblinear', random_state=42, class_weight='balanced'))])\n",
    "pipeline_lr.fit(X_train, y_train)\n",
    "y_pred_lr = pipeline_lr.predict(X_test)\n",
    "print(\"\\n--- Evaluation for Logistic Regression ---\")\n",
    "print(classification_report(y_test, y_pred_lr))"
   ]
  },
  {
   "cell_type": "code",
   "execution_count": 18,
   "id": "290e5431-838f-402c-b7bc-7bd41097add5",
   "metadata": {},
   "outputs": [
    {
     "name": "stdout",
     "output_type": "stream",
     "text": [
      "\n",
      "Evaluation for Random Forest: \n",
      "              precision    recall  f1-score   support\n",
      "\n",
      "           0       0.71      0.55      0.62      2573\n",
      "           1       0.62      0.24      0.34       768\n",
      "           2       0.53      0.21      0.30      1907\n",
      "           3       0.48      0.22      0.30      4363\n",
      "           4       0.67      0.90      0.77     13031\n",
      "\n",
      "    accuracy                           0.65     22642\n",
      "   macro avg       0.60      0.42      0.47     22642\n",
      "weighted avg       0.62      0.65      0.61     22642\n",
      "\n"
     ]
    }
   ],
   "source": [
    "# Model 2: Random Forest\n",
    "pipeline_rf = Pipeline(steps=[('preprocessor', preprocessor),\n",
    "                              ('classifier', RandomForestClassifier(n_estimators=100, random_state=42, n_jobs=-1, class_weight='balanced'))])\n",
    "pipeline_rf.fit(X_train, y_train)\n",
    "y_pred_rf = pipeline_rf.predict(X_test)\n",
    "print(\"\\nEvaluation for Random Forest: \")\n",
    "print(classification_report(y_test, y_pred_rf))"
   ]
  },
  {
   "cell_type": "code",
   "execution_count": 20,
   "id": "3c38e824-cafb-4de7-9cda-e6f62d3b5937",
   "metadata": {},
   "outputs": [
    {
     "name": "stdout",
     "output_type": "stream",
     "text": [
      "\n",
      "--- Evaluation for XGBoost ---\n",
      "              precision    recall  f1-score   support\n",
      "\n",
      "           0       0.68      0.36      0.47      2573\n",
      "           1       0.81      0.04      0.07       768\n",
      "           2       0.88      0.02      0.04      1907\n",
      "           3       0.63      0.03      0.06      4363\n",
      "           4       0.61      0.99      0.76     13031\n",
      "\n",
      "    accuracy                           0.62     22642\n",
      "   macro avg       0.72      0.29      0.28     22642\n",
      "weighted avg       0.65      0.62      0.51     22642\n",
      "\n"
     ]
    }
   ],
   "source": [
    "# Model 3: XGBoost\n",
    "pipeline_xgb = Pipeline(steps=[('preprocessor', preprocessor),\n",
    "                               ('classifier', xgb.XGBClassifier(objective='multi:softprob', eval_metric='mlogloss', random_state=42))])\n",
    "pipeline_xgb.fit(X_train, y_train)\n",
    "y_pred_xgb = pipeline_xgb.predict(X_test)\n",
    "print(\"\\n--- Evaluation for XGBoost ---\")\n",
    "print(classification_report(y_test, y_pred_xgb))"
   ]
  },
  {
   "cell_type": "code",
   "execution_count": 21,
   "id": "058d4cd5-f846-4828-be71-b8d6766011ba",
   "metadata": {},
   "outputs": [
    {
     "name": "stdout",
     "output_type": "stream",
     "text": [
      "\n",
      "Tuning Logistic Regression...\n",
      "Fitting 3 folds for each of 3 candidates, totalling 9 fits\n",
      "\n",
      "Best Parameters for Logistic Regression: {'classifier__C': 0.1}\n",
      "Evaluation for Tuned Logistic Regression:\n",
      "              precision    recall  f1-score   support\n",
      "\n",
      "      1 Star       0.35      0.41      0.38      2573\n",
      "     2 Stars       0.06      0.01      0.02       768\n",
      "     3 Stars       0.14      0.01      0.03      1907\n",
      "     4 Stars       0.35      0.01      0.01      4363\n",
      "     5 Stars       0.62      0.91      0.74     13031\n",
      "\n",
      "    accuracy                           0.57     22642\n",
      "   macro avg       0.30      0.27      0.23     22642\n",
      "weighted avg       0.48      0.57      0.47     22642\n",
      "\n"
     ]
    }
   ],
   "source": [
    "# Tune Logistic Regression \n",
    "print(\"\\nTuning Logistic Regression...\")\n",
    "pipeline_lr = Pipeline(steps=[('preprocessor', preprocessor),\n",
    "                              ('classifier', LogisticRegression(multi_class='ovr', solver='liblinear', random_state=42, class_weight='balanced'))])\n",
    "param_grid_lr = {\n",
    "    'classifier__C': [0.1, 1, 10]\n",
    "}\n",
    "grid_search_lr = GridSearchCV(pipeline_lr, param_grid_lr, cv=3, n_jobs=-1, verbose=1)\n",
    "grid_search_lr.fit(X_train, y_train)\n",
    "\n",
    "best_lr = grid_search_lr.best_estimator_\n",
    "y_pred_lr = best_lr.predict(X_test)\n",
    "print(\"\\nBest Parameters for Logistic Regression:\", grid_search_lr.best_params_)\n",
    "print(\"Evaluation for Tuned Logistic Regression:\")\n",
    "print(classification_report(y_test, y_pred_lr, target_names=class_labels))"
   ]
  },
  {
   "cell_type": "code",
   "execution_count": 32,
   "id": "f5a3f32d-55e4-4909-bbbd-4f213a6b7e7c",
   "metadata": {},
   "outputs": [
    {
     "name": "stdout",
     "output_type": "stream",
     "text": [
      "\n",
      "Tuning Random Forest...\n",
      "Fitting 3 folds for each of 5 candidates, totalling 15 fits\n",
      "\n",
      "Best Parameters for Random Forest: {'classifier__n_estimators': 200, 'classifier__min_samples_leaf': 2, 'classifier__max_depth': 20}\n",
      "Evaluation for Tuned Random Forest:\n",
      "              precision    recall  f1-score   support\n",
      "\n",
      "      1 Star       0.50      0.52      0.51      2573\n",
      "     2 Stars       0.28      0.21      0.24       768\n",
      "     3 Stars       0.23      0.24      0.24      1907\n",
      "     4 Stars       0.31      0.30      0.30      4363\n",
      "     5 Stars       0.68      0.69      0.68     13031\n",
      "\n",
      "    accuracy                           0.54     22642\n",
      "   macro avg       0.40      0.39      0.40     22642\n",
      "weighted avg       0.54      0.54      0.54     22642\n",
      "\n"
     ]
    }
   ],
   "source": [
    "# Tune Random Forest\n",
    "print(\"\\nTuning Random Forest...\")\n",
    "pipeline_rf = Pipeline(steps=[('preprocessor', preprocessor),\n",
    "                              ('classifier', RandomForestClassifier(random_state=42, class_weight='balanced', n_jobs=-1))])\n",
    "param_grid_rf = {\n",
    "    'classifier__n_estimators': [100, 200],\n",
    "    'classifier__max_depth': [10, 20],\n",
    "    'classifier__min_samples_leaf': [2, 4]\n",
    "}\n",
    "random_search_rf = RandomizedSearchCV(pipeline_rf, param_grid_rf, n_iter=5, cv=3, n_jobs=-1, verbose=1, random_state=42)\n",
    "random_search_rf.fit(X_train, y_train)\n",
    "\n",
    "best_rf = random_search_rf.best_estimator_\n",
    "y_pred_rf = best_rf.predict(X_test)\n",
    "print(\"\\nBest Parameters for Random Forest:\", random_search_rf.best_params_)\n",
    "print(\"Evaluation for Tuned Random Forest:\")\n",
    "print(classification_report(y_test, y_pred_rf, target_names=class_labels))"
   ]
  },
  {
   "cell_type": "code",
   "execution_count": 24,
   "id": "62b6bf32-57bf-4d97-867f-3935f51e0c1c",
   "metadata": {},
   "outputs": [
    {
     "name": "stdout",
     "output_type": "stream",
     "text": [
      "\n",
      "Tuning XGBoost...\n",
      "Fitting 3 folds for each of 5 candidates, totalling 15 fits\n",
      "\n",
      "Best Parameters for XGBoost: {'classifier__n_estimators': 300, 'classifier__max_depth': 7, 'classifier__learning_rate': 0.1, 'classifier__colsample_bytree': 0.9}\n",
      "Evaluation for Tuned XGBoost:\n",
      "              precision    recall  f1-score   support\n",
      "\n",
      "      1 Star       0.68      0.36      0.47      2573\n",
      "     2 Stars       0.92      0.05      0.09       768\n",
      "     3 Stars       0.85      0.03      0.05      1907\n",
      "     4 Stars       0.67      0.03      0.06      4363\n",
      "     5 Stars       0.61      0.99      0.76     13031\n",
      "\n",
      "    accuracy                           0.62     22642\n",
      "   macro avg       0.75      0.29      0.29     22642\n",
      "weighted avg       0.66      0.62      0.51     22642\n",
      "\n"
     ]
    }
   ],
   "source": [
    "# Tune XGBoost \n",
    "print(\"\\nTuning XGBoost...\")\n",
    "pipeline_xgb = Pipeline(steps=[('preprocessor', preprocessor),\n",
    "                               ('classifier', xgb.XGBClassifier(objective='multi:softprob', eval_metric='mlogloss', random_state=42))])\n",
    "param_grid_xgb = {\n",
    "    'classifier__n_estimators': [100, 200, 300],\n",
    "    'classifier__max_depth': [3, 5, 7],\n",
    "    'classifier__learning_rate': [0.05, 0.1],\n",
    "    'classifier__colsample_bytree': [0.8, 0.9]\n",
    "}\n",
    "random_search_xgb = RandomizedSearchCV(pipeline_xgb, param_grid_xgb, n_iter=5, cv=3, n_jobs=-1, verbose=1, random_state=42)\n",
    "random_search_xgb.fit(X_train, y_train)\n",
    "\n",
    "best_xgb = random_search_xgb.best_estimator_\n",
    "y_pred_xgb = best_xgb.predict(X_test)\n",
    "print(\"\\nBest Parameters for XGBoost:\", random_search_xgb.best_params_)\n",
    "print(\"Evaluation for Tuned XGBoost:\")\n",
    "print(classification_report(y_test, y_pred_xgb, target_names=class_labels))"
   ]
  },
  {
   "cell_type": "markdown",
   "id": "d8600921-f223-483b-b49e-7efdca1a014e",
   "metadata": {},
   "source": [
    "-> Random Forest is best model for Order-Review-Score-Prediction\n",
    "\n",
    "Why XGBoost is Deceptive:\n",
    "Your XGBoost model achieved 62% accuracy by becoming extremely good at one thing: predicting the \"5 Stars\" class (with 99% recall). However, it almost completely failed to identify 2, 3, and 4-star reviews, with F1-scores near zero (0.09, 0.05, 0.06). In a business context, this model is not useful because it can't warn you about mediocre or poor customer experiences.\n",
    "\n",
    "Why Logistic Regression Fails:\n",
    "This model performed poorly across the board, especially on the rare classes. It has not learned the complex patterns in the data.\n",
    "\n",
    "Why Random Forest is the Winner:\n",
    "The Tuned Random Forest is the best choice because it is the most balanced. It has the highest macro avg f1-score (0.40). This metric is the most important one here because it averages the performance across all classes, giving equal weight to the rare 2-star reviews and the common 5-star ones. The Random Forest model does a much better job of identifying reviews across the entire 1-5 star spectrum, even if its overall accuracy is slightly lower.\n",
    "\n",
    "Inference: The analysis reveals that for a complex, imbalanced problem like predicting review scores, a model's ability to perform well on rare but critical outcomes (like 2 or 3-star reviews) is more important than its overall accuracy. The Random Forest model, especially with balanced class weights, proves superior at learning the subtle signals that distinguish between all levels of customer satisfaction, making it a more practical and insightful tool."
   ]
  },
  {
   "cell_type": "code",
   "execution_count": 37,
   "id": "2602b38c-be2c-4dd2-b5d1-e43316a209bc",
   "metadata": {},
   "outputs": [
    {
     "data": {
      "image/png": "[encoded data removed]",
      "text/plain": [
       "<Figure size 1200x800 with 1 Axes>"
      ]
     },
     "metadata": {},
     "output_type": "display_data"
    },
    {
     "name": "stdout",
     "output_type": "stream",
     "text": [
      "\n",
      "Top 3 most important features:\n",
      "          feature  importance\n",
      "0  delivery_delay    0.299355\n",
      "1   payment_value    0.194312\n",
      "2   freight_value    0.176263\n"
     ]
    }
   ],
   "source": [
    "ohe_feature_names = best_rf.named_steps['preprocessor'].transformers_[1][1].named_steps['onehot'].get_feature_names_out(categorical_features)\n",
    "all_feature_names = numerical_features + list(ohe_feature_names)\n",
    "\n",
    "# Create a DataFrame of the feature importances\n",
    "importances = best_rf.named_steps['classifier'].feature_importances_\n",
    "feature_importance_df = pd.DataFrame({\n",
    "    'feature': all_feature_names,\n",
    "    'importance': importances\n",
    "}).sort_values('importance', ascending=False)\n",
    "\n",
    "# Plot the Top 15 most important features\n",
    "plt.figure(figsize=(12, 8))\n",
    "sns.barplot(x='importance', y='feature', data=feature_importance_df.head(5), hue = 'feature', palette='viridis', legend=False)\n",
    "plt.title('Top 5 Most Important Features for Predicting Review Score')\n",
    "plt.xlabel('Importance Score')\n",
    "plt.ylabel('Feature')\n",
    "plt.show()\n",
    "\n",
    "print(\"\\nTop 3 most important features:\")\n",
    "print(feature_importance_df.head(3))"
   ]
  },
  {
   "cell_type": "code",
   "execution_count": null,
   "id": "c1f4a463-269e-4800-bd58-2d43caf9b50b",
   "metadata": {},
   "outputs": [
    {
     "name": "stdout",
     "output_type": "stream",
     "text": [
      "Data prepared for final Review Score model training.\n",
      "Training the final Random Forest model on the full dataset...\n",
      "Model training complete.\n"
     ]
    }
   ],
   "source": [
    "import pandas as pd\n",
    "import numpy as np\n",
    "import joblib\n",
    "from sklearn.model_selection import train_test_split\n",
    "from sklearn.preprocessing import StandardScaler, OneHotEncoder\n",
    "from sklearn.compose import ColumnTransformer\n",
    "from sklearn.pipeline import Pipeline\n",
    "from sklearn.impute import SimpleImputer\n",
    "from sklearn.ensemble import RandomForestClassifier\n",
    "\n",
    "# --- 1. Data Preparation ---\n",
    "# Load the dataset\n",
    "df = pd.read_csv('data/olist_prepared_dataset.csv')\n",
    "\n",
    "# Drop rows with missing target values (review_score)\n",
    "df.dropna(subset=['review_score'], inplace=True)\n",
    "\n",
    "# Define features and target\n",
    "numerical_features = ['delivery_delay', 'payment_value', 'freight_value', 'product_weight_g']\n",
    "categorical_features = ['product_category_name_english', 'payment_type', 'seller_state']\n",
    "features = numerical_features + categorical_features\n",
    "target = 'review_score'\n",
    "\n",
    "X = df[features]\n",
    "y = df[target]\n",
    "\n",
    "print(\"Data prepared for final Review Score model training.\")\n",
    "\n",
    "\n",
    "# --- 2. Define and Train the Final Model ---\n",
    "\n",
    "# Create preprocessing pipelines for numerical and categorical data\n",
    "numerical_transformer = Pipeline(steps=[\n",
    "    ('imputer', SimpleImputer(strategy='median')),\n",
    "    ('scaler', StandardScaler())\n",
    "])\n",
    "\n",
    "categorical_transformer = Pipeline(steps=[\n",
    "    ('imputer', SimpleImputer(strategy='most_frequent')),\n",
    "    ('onehot', OneHotEncoder(handle_unknown='ignore'))\n",
    "])\n",
    "\n",
    "# Create a preprocessor object using ColumnTransformer\n",
    "preprocessor = ColumnTransformer(\n",
    "    transformers=[\n",
    "        ('num', numerical_transformer, numerical_features),\n",
    "        ('cat', categorical_transformer, categorical_features)\n",
    "    ])\n",
    "\n",
    "# Create the final model pipeline, including the preprocessor and the classifier\n",
    "# Use the best hyperparameters you found during your analysis\n",
    "final_review_model = Pipeline(steps=[\n",
    "    ('preprocessor', preprocessor),\n",
    "    ('classifier', RandomForestClassifier(\n",
    "        n_estimators=200,  # Example: use the best n_estimators\n",
    "        max_depth=20,       # Example: use the best max_depth\n",
    "        random_state=42,\n",
    "        n_jobs=-1\n",
    "    ))\n",
    "])\n",
    "\n",
    "print(\"Training the final Random Forest model on the full dataset...\")\n",
    "# We train on the entire dataset (X, y) to make the model as robust as possible\n",
    "final_review_model.fit(X, y)\n",
    "print(\"Model training complete.\")\n",
    "\n",
    "\n",
    "# --- 3. Save the Model ---\n",
    "# The entire pipeline (preprocessing + model) is saved to a single file.\n",
    "file_path = 'models/review_model.pkl'\n",
    "joblib.dump(final_review_model, file_path)\n",
    "\n",
    "print(f\"\\nModel successfully saved to '{file_path}'\")\n",
    "print(\"\\nThis file now contains your complete prediction pipeline and is ready for the Flask API.\")"
   ]
  }
 ],
 "metadata": {
  "kernelspec": {
   "display_name": "Python(my-env)",
   "language": "python",
   "name": "my-env"
  },
  "language_info": {
   "codemirror_mode": {
    "name": "ipython",
    "version": 3
   },
   "file_extension": ".py",
   "mimetype": "text/x-python",
   "name": "python",
   "nbconvert_exporter": "python",
   "pygments_lexer": "ipython3",
   "version": "3.9.21"
  }
 },
 "nbformat": 4,
 "nbformat_minor": 5
}
