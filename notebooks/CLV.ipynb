{
 "cells": [
  {
   "cell_type": "code",
   "execution_count": 2,
   "id": "afaf88e4-cf95-49d7-a3e3-57da203ce1f7",
   "metadata": {},
   "outputs": [
    {
     "name": "stdout",
     "output_type": "stream",
     "text": [
      "Data prepared for CLV prediction.\n",
      "Training data shape: (73183, 5)\n",
      "Testing data shape: (18296, 5)\n"
     ]
    }
   ],
   "source": [
    "import pandas as pd\n",
    "import numpy as np\n",
    "from sklearn.model_selection import train_test_split, RandomizedSearchCV\n",
    "from sklearn.preprocessing import StandardScaler\n",
    "from sklearn.linear_model import LinearRegression\n",
    "from sklearn.ensemble import RandomForestRegressor\n",
    "import xgboost as xgb\n",
    "from sklearn.metrics import mean_absolute_error, r2_score\n",
    "\n",
    "# Load the main dataset\n",
    "df = pd.read_csv('data/olist_prepared_dataset.csv')\n",
    "\n",
    "# Create a customer-level dataset for CLV modeling\n",
    "customer_clv_df = df.groupby('customer_unique_id').agg(\n",
    "    recency=('recency', 'first'),\n",
    "    frequency=('frequency', 'first'),\n",
    "    monetary=('monetary', 'first'),  # This will be our target\n",
    "    avg_review_score=('review_score', 'mean'),\n",
    "    avg_delivery_delay=('delivery_delay', 'mean'),\n",
    "    total_payment_installments=('payment_installments', 'sum')\n",
    ").reset_index()\n",
    "\n",
    "# Handle any potential missing values from the aggregation\n",
    "customer_clv_df.fillna(customer_clv_df.median(numeric_only=True), inplace=True)\n",
    "\n",
    "features = [\n",
    "    'recency', 'frequency', 'avg_review_score',\n",
    "    'avg_delivery_delay', 'total_payment_installments'\n",
    "]\n",
    "target = 'monetary'\n",
    "\n",
    "X = customer_clv_df[features]\n",
    "y = customer_clv_df[target]\n",
    "\n",
    "X_train, X_test, y_train, y_test = train_test_split(X, y, test_size=0.2, random_state=42)\n",
    "\n",
    "# Feature Scaling\n",
    "scaler = StandardScaler()\n",
    "X_train = scaler.fit_transform(X_train)\n",
    "X_test = scaler.transform(X_test)\n",
    "\n",
    "print(\"Data prepared for CLV prediction.\")\n",
    "print(f\"Training data shape: {X_train.shape}\")\n",
    "print(f\"Testing data shape: {X_test.shape}\")"
   ]
  },
  {
   "cell_type": "code",
   "execution_count": 3,
   "id": "98065b77-98a9-4971-b582-5adbccafe613",
   "metadata": {},
   "outputs": [
    {
     "name": "stdout",
     "output_type": "stream",
     "text": [
      "\n",
      "Training Linear Regression...\n",
      "Linear Regression MAE: $157.22 | R-squared: 0.04\n"
     ]
    }
   ],
   "source": [
    "# Model 1: Linear Regression (Baseline)\n",
    "print(\"\\nTraining Linear Regression...\")\n",
    "lr = LinearRegression()\n",
    "lr.fit(X_train, y_train)\n",
    "y_pred_lr = lr.predict(X_test)\n",
    "mae_lr = mean_absolute_error(y_test, y_pred_lr)\n",
    "r2_lr = r2_score(y_test, y_pred_lr)\n",
    "print(f\"Linear Regression MAE: ${mae_lr:,.2f} | R-squared: {r2_lr:.2f}\")"
   ]
  },
  {
   "cell_type": "code",
   "execution_count": 4,
   "id": "97d7465a-d375-4208-9cc8-8263c38c1e72",
   "metadata": {},
   "outputs": [
    {
     "name": "stdout",
     "output_type": "stream",
     "text": [
      "\n",
      "Tuning Random Forest Regressor...\n",
      "Fitting 3 folds for each of 5 candidates, totalling 15 fits\n",
      "\n",
      "Best Parameters for Random Forest: {'n_estimators': 100, 'min_samples_leaf': 4, 'max_depth': 10}\n",
      "Tuned Random Forest MAE: $151.29 | R-squared: 0.02\n"
     ]
    }
   ],
   "source": [
    "#Model 2: Random Forest Regressor (Tuning)\n",
    "print(\"\\nTuning Random Forest Regressor...\")\n",
    "param_grid_rf = {\n",
    "    'n_estimators': [100, 200],\n",
    "    'max_depth': [10, 20],\n",
    "    'min_samples_leaf': [2, 4]\n",
    "}\n",
    "rf = RandomForestRegressor(random_state=42)\n",
    "random_search_rf = RandomizedSearchCV(rf, param_grid_rf, n_iter=5, cv=3, n_jobs=-1, verbose=1, random_state=42)\n",
    "random_search_rf.fit(X_train, y_train)\n",
    "\n",
    "best_rf = random_search_rf.best_estimator_\n",
    "y_pred_rf = best_rf.predict(X_test)\n",
    "mae_rf = mean_absolute_error(y_test, y_pred_rf)\n",
    "r2_rf = r2_score(y_test, y_pred_rf)\n",
    "print(\"\\nBest Parameters for Random Forest:\", random_search_rf.best_params_)\n",
    "print(f\"Tuned Random Forest MAE: ${mae_rf:,.2f} | R-squared: {r2_rf:.2f}\")"
   ]
  },
  {
   "cell_type": "code",
   "execution_count": 5,
   "id": "e36cb1ba-8707-45e9-a96b-2beed6c5b150",
   "metadata": {},
   "outputs": [
    {
     "name": "stdout",
     "output_type": "stream",
     "text": [
      "\n",
      "Tuning XGBoost Regressor...\n",
      "Fitting 3 folds for each of 5 candidates, totalling 15 fits\n",
      "\n",
      "Best Parameters for XGBoost: {'subsample': 0.8, 'n_estimators': 100, 'max_depth': 3, 'learning_rate': 0.05}\n",
      "Tuned XGBoost MAE: $150.91 | R-squared: 0.03\n"
     ]
    }
   ],
   "source": [
    "# Model 3: XGBoost Regressor (Tuning)\n",
    "print(\"\\nTuning XGBoost Regressor...\")\n",
    "param_grid_xgb = {\n",
    "    'n_estimators': [100, 500],\n",
    "    'max_depth': [3, 5, 7],\n",
    "    'learning_rate': [0.05, 0.1],\n",
    "    'subsample': [0.8, 1.0]\n",
    "}\n",
    "xgb_reg = xgb.XGBRegressor(random_state=42)\n",
    "random_search_xgb = RandomizedSearchCV(xgb_reg, param_grid_xgb, n_iter=5, cv=3, n_jobs=-1, verbose=1, random_state=42)\n",
    "random_search_xgb.fit(X_train, y_train)\n",
    "\n",
    "best_xgb = random_search_xgb.best_estimator_\n",
    "y_pred_xgb = best_xgb.predict(X_test)\n",
    "mae_xgb = mean_absolute_error(y_test, y_pred_xgb)\n",
    "r2_xgb = r2_score(y_test, y_pred_xgb)\n",
    "print(\"\\nBest Parameters for XGBoost:\", random_search_xgb.best_params_)\n",
    "print(f\"Tuned XGBoost MAE: ${mae_xgb:,.2f} | R-squared: {r2_xgb:.2f}\")"
   ]
  },
  {
   "cell_type": "code",
   "execution_count": 6,
   "id": "0d2f6dd2-9b97-46a0-97fa-2c44458cd33b",
   "metadata": {},
   "outputs": [
    {
     "name": "stdout",
     "output_type": "stream",
     "text": [
      "Data prepared for lifetimes models:\n",
      "                                  frequency  recency      T  monetary_value\n",
      "customer_id                                                                \n",
      "0000366f3b9a7992bf8c76cfdf3221e2        0.0      0.0  111.0             0.0\n",
      "0000b849f77a49e4a4ce2b2a4ca5be3f        0.0      0.0  114.0             0.0\n",
      "0000f46a3911fa3c0805444483337064        0.0      0.0  537.0             0.0\n",
      "0000f6ccb0745a6a4b88665a16c9f078        0.0      0.0  321.0             0.0\n",
      "0004aac84e0df4da2b147fca70cf8255        0.0      0.0  288.0             0.0\n"
     ]
    }
   ],
   "source": [
    "import pandas as pd\n",
    "from lifetimes.utils import summary_data_from_transaction_data\n",
    "from lifetimes import BetaGeoFitter\n",
    "from lifetimes import GammaGammaFitter\n",
    "\n",
    "\n",
    "# The lifetimes library requires a specific format.\n",
    "# We need a DataFrame with customer_id, datetime, and monetary_value.\n",
    "transactions = df[['customer_unique_id', 'order_purchase_timestamp', 'payment_value']]\n",
    "transactions.columns = ['customer_id', 'date', 'monetary_value']\n",
    "\n",
    "# Use the library's utility function to transform the data.\n",
    "# This creates the Recency, Frequency, T, and Monetary Value summary.\n",
    "summary = summary_data_from_transaction_data(\n",
    "    transactions,\n",
    "    customer_id_col='customer_id',\n",
    "    datetime_col='date',\n",
    "    monetary_value_col='monetary_value'\n",
    ")\n",
    "\n",
    "# The 'T' column represents the age of the customer\n",
    "print(\"Data prepared for lifetimes models:\")\n",
    "print(summary.head())"
   ]
  },
  {
   "cell_type": "code",
   "execution_count": 7,
   "id": "033bc22b-3e5c-4fe3-85b8-6c79fb540263",
   "metadata": {},
   "outputs": [
    {
     "name": "stdout",
     "output_type": "stream",
     "text": [
      "\n",
      "Fitting the BG/NBD model...\n",
      "BG/NBD model fitted.\n",
      "            coef  se(coef)  lower 95% bound  upper 95% bound\n",
      "r       0.015708  0.000863         0.014017         0.017399\n",
      "alpha  67.131154  6.568119        54.257640        80.004668\n",
      "a       2.047868  0.515246         1.037985         3.057751\n",
      "b       0.346787  0.095509         0.159589         0.533985\n",
      "\n",
      "Checking correlation between frequency and monetary value...\n",
      "                frequency  monetary_value\n",
      "frequency        1.000000        0.013127\n",
      "monetary_value   0.013127        1.000000\n",
      "\n",
      "Fitting the Gamma-Gamma model...\n",
      "Gamma-Gamma model fitted.\n",
      "        coef  se(coef)  lower 95% bound  upper 95% bound\n",
      "p  11.220717  3.206615         4.935752        17.505681\n",
      "q   1.724699  0.080921         1.566093         1.883305\n",
      "v  14.593137  5.043157         4.708549        24.477724\n",
      "\n",
      "Calculating Customer Lifetime Value for the next year (365 days)...\n",
      "\n",
      "Top 10 Customers by Predicted CLV:\n",
      "                                  frequency  recency      T  monetary_value  \\\n",
      "customer_id                                                                   \n",
      "c8460e4251689ba205045f3ea17884a1        1.0      1.0   22.0    14431.680000   \n",
      "397b44d5bb99eabf54ea9c2b41ebb905        3.0    157.0  230.0     1049.810000   \n",
      "1da09dd64e235e7c2f29a4faff33535c        2.0    246.0  476.0     3380.000000   \n",
      "dc813062e0fc23409cd255f7f53c7074        5.0    418.0  424.0      272.814000   \n",
      "efce1ab3e96ccab8b1b464326bd22417        1.0    232.0  387.0     7852.400000   \n",
      "4facc2e6fbc2bffab2fea92d2b4aa7e4        3.0    421.0  437.0      532.320000   \n",
      "a66315c850c3712707754c1eca7a8069        2.0    342.0  468.0     1475.320000   \n",
      "fe81bb32c243a86b2f86fbf053fe6140        4.0    242.0  311.0      381.745000   \n",
      "9832ae2f7d3e5fa4c7a1a06e9551bc61        2.0    284.0  411.0     1338.195000   \n",
      "ca77025e7201e3b30c44b472ff346268        6.0    235.0  324.0      306.228333   \n",
      "\n",
      "                                  predicted_clv  \n",
      "customer_id                                      \n",
      "c8460e4251689ba205045f3ea17884a1    1939.483572  \n",
      "397b44d5bb99eabf54ea9c2b41ebb905     619.326301  \n",
      "1da09dd64e235e7c2f29a4faff33535c     507.492167  \n",
      "dc813062e0fc23409cd255f7f53c7074     392.986915  \n",
      "efce1ab3e96ccab8b1b464326bd22417     384.737526  \n",
      "4facc2e6fbc2bffab2fea92d2b4aa7e4     355.682082  \n",
      "a66315c850c3712707754c1eca7a8069     348.836325  \n",
      "fe81bb32c243a86b2f86fbf053fe6140     330.087449  \n",
      "9832ae2f7d3e5fa4c7a1a06e9551bc61     322.284056  \n",
      "ca77025e7201e3b30c44b472ff346268     320.034809  \n"
     ]
    }
   ],
   "source": [
    "\n",
    "# Fit the BG/NBD Model (Predicts Future Purchases)\n",
    "print(\"\\nFitting the BG/NBD model...\")\n",
    "bgf = BetaGeoFitter(penalizer_coef=0.0)\n",
    "bgf.fit(summary['frequency'], summary['recency'], summary['T'])\n",
    "\n",
    "print(\"BG/NBD model fitted.\")\n",
    "print(bgf.summary)\n",
    "\n",
    "# Fit the Gamma-Gamma Model (Predicts Transaction Value)\n",
    "# The Gamma-Gamma model requires that frequency and monetary value are not correlated.\n",
    "# We also only use customers who have made repeat purchases (frequency > 0).\n",
    "returning_customers = summary[summary['frequency'] > 0]\n",
    "print(f\"\\nChecking correlation between frequency and monetary value...\")\n",
    "print(returning_customers[['frequency', 'monetary_value']].corr())\n",
    "\n",
    "print(\"\\nFitting the Gamma-Gamma model...\")\n",
    "ggf = GammaGammaFitter(penalizer_coef=0.0)\n",
    "ggf.fit(returning_customers['frequency'],\n",
    "        returning_customers['monetary_value'])\n",
    "\n",
    "print(\"Gamma-Gamma model fitted.\")\n",
    "print(ggf.summary)\n",
    "\n",
    "# Calculate Customer Lifetime Value\n",
    "print(\"\\nCalculating Customer Lifetime Value for the next year (365 days)...\")\n",
    "# We specify a time horizon (t), a discount rate (discount_rate),\n",
    "# and the monetary value we want to predict.\n",
    "summary['predicted_clv'] = ggf.customer_lifetime_value(\n",
    "    bgf,\n",
    "    summary['frequency'],\n",
    "    summary['recency'],\n",
    "    summary['T'],\n",
    "    summary['monetary_value'],\n",
    "    time=12,  # 12 months\n",
    "    discount_rate=0.01 # monthly discount rate\n",
    ")\n",
    "\n",
    "# Display the customers with the highest predicted CLV\n",
    "print(\"\\nTop 10 Customers by Predicted CLV:\")\n",
    "print(summary.sort_values(by='predicted_clv', ascending=False).head(10))"
   ]
  },
  {
   "cell_type": "code",
   "execution_count": 8,
   "id": "44d451c2-4247-4b60-8ff2-c6f776c71b7b",
   "metadata": {},
   "outputs": [
    {
     "name": "stdout",
     "output_type": "stream",
     "text": [
      "Lifetimes Model MAE (predicting next 90 days):  $2.28\n"
     ]
    }
   ],
   "source": [
    "from lifetimes.utils import calibration_and_holdout_data\n",
    "from sklearn.metrics import mean_absolute_error\n",
    "\n",
    "transactions['date'] = pd.to_datetime(transactions['date'])\n",
    "\n",
    "# We'll use the last 90 days as the holdout period to test our predictions.\n",
    "summary_cal_holdout = calibration_and_holdout_data(\n",
    "    transactions,\n",
    "    customer_id_col='customer_id',\n",
    "    datetime_col='date',\n",
    "    monetary_value_col='monetary_value',\n",
    "    observation_period_end=transactions['date'].max(),\n",
    "    freq='D',\n",
    "    calibration_period_end=transactions['date'].max() - pd.Timedelta(days=90)\n",
    ")\n",
    "\n",
    "# Fit the BG/NBD and Gamma-Gamma models on the calibration data ONLY\n",
    "bgf = BetaGeoFitter(penalizer_coef=0.0)\n",
    "bgf.fit(summary_cal_holdout['frequency_cal'], summary_cal_holdout['recency_cal'], summary_cal_holdout['T_cal'])\n",
    "\n",
    "returning_customers_cal = summary_cal_holdout[summary_cal_holdout['frequency_cal'] > 0]\n",
    "ggf = GammaGammaFitter(penalizer_coef=0.0)\n",
    "ggf.fit(returning_customers_cal['frequency_cal'], returning_customers_cal['monetary_value_cal'])\n",
    "\n",
    "# Predict the monetary value for the holdout period (90 days)\n",
    "predicted_value = ggf.conditional_expected_average_profit(\n",
    "    summary_cal_holdout['frequency_cal'],\n",
    "    summary_cal_holdout['monetary_value_cal']\n",
    ") * bgf.predict(\n",
    "    90, # Predict for 90 days\n",
    "    summary_cal_holdout['frequency_cal'],\n",
    "    summary_cal_holdout['recency_cal'],\n",
    "    summary_cal_holdout['T_cal']\n",
    ")\n",
    "\n",
    "# Calculate the MAE\n",
    "mae_lifetimes = mean_absolute_error(summary_cal_holdout['monetary_value_holdout'], predicted_value)\n",
    "\n",
    "print(f\"Lifetimes Model MAE (predicting next 90 days):  ${mae_lifetimes:,.2f}\")"
   ]
  },
  {
   "cell_type": "code",
   "execution_count": 9,
   "id": "2e6dbd74-bed1-4924-9b2e-473e45957a74",
   "metadata": {},
   "outputs": [
    {
     "name": "stdout",
     "output_type": "stream",
     "text": [
      "Fair Accuracy Comparison: \n",
      "Lifetimes Model MAE (predicting next 90 days): $2.28\n",
      "XGBoost Model MAE (predicting next 90 days):   $1.66\n"
     ]
    }
   ],
   "source": [
    "features = ['frequency_cal', 'recency_cal', 'T_cal', 'monetary_value_cal']\n",
    "# The target is their actual spending in the future (the holdout period)\n",
    "target = 'monetary_value_holdout'\n",
    "\n",
    "X = summary_cal_holdout[features]\n",
    "y = summary_cal_holdout[target]\n",
    "\n",
    "# We still split this data to train the model and test it fairly\n",
    "X_train, X_test, y_train, y_test = train_test_split(X, y, test_size=0.2, random_state=42)\n",
    "\n",
    "# Use the best hyperparameters we found for XGBoost before\n",
    "xgb_fair = xgb.XGBRegressor(\n",
    "    subsample=0.8,\n",
    "    n_estimators=100,\n",
    "    max_depth=3,\n",
    "    learning_rate=0.05,\n",
    "    random_state=42\n",
    ")\n",
    "\n",
    "xgb_fair.fit(X_train, y_train)\n",
    "y_pred_xgb_fair = xgb_fair.predict(X_test)\n",
    "\n",
    "mae_xgb_fair = mean_absolute_error(y_test, y_pred_xgb_fair)\n",
    "# This is the MAE from the Lifetimes model in the previous step\n",
    "mae_lifetimes = 2.28 \n",
    "\n",
    "print(\"Fair Accuracy Comparison: \")\n",
    "print(f\"Lifetimes Model MAE (predicting next 90 days): ${mae_lifetimes:,.2f}\")\n",
    "print(f\"XGBoost Model MAE (predicting next 90 days):   ${mae_xgb_fair:,.2f}\")"
   ]
  },
  {
   "cell_type": "markdown",
   "id": "4a01cd1b-a1c6-4bb3-8348-6ab1b402ef46",
   "metadata": {},
   "source": [
    "-> XGBoost Regressor is the best model for CLV Prediction.\n",
    "\n",
    "Synopsis of Comparative Analysis:\n",
    "A multi-stage evaluation was conducted to identify the superior modeling approach for CLV forecasting. The analysis compared a specialized probabilistic model against a general-purpose machine learning algorithm on a fair, forward-looking prediction task.\n",
    "\n",
    "Methodology and Quantitative Results:\n",
    "Two models were tested on their ability to predict customer spending over a 90-day holdout period based on features from a preceding calibration period. The primary evaluation metric was Mean Absolute Error (MAE)."
   ]
  },
  {
   "cell_type": "code",
   "execution_count": 10,
   "id": "a1b07789-0f7d-4599-baa4-7e894d7075b3",
   "metadata": {},
   "outputs": [
    {
     "data": {
      "image/png": "[encoded data removed]",
      "text/plain": [
       "<Figure size 1000x600 with 1 Axes>"
      ]
     },
     "metadata": {},
     "output_type": "display_data"
    },
    {
     "name": "stdout",
     "output_type": "stream",
     "text": [
      "Top 3 most important features for predicting CLV:\n",
      "              feature  importance\n",
      "3  monetary_value_cal    0.386765\n",
      "1         recency_cal    0.306977\n",
      "0       frequency_cal    0.218588\n"
     ]
    }
   ],
   "source": [
    "import matplotlib.pyplot as plt\n",
    "import seaborn as sns\n",
    "\n",
    "feature_importances = pd.DataFrame({\n",
    "    'feature': X.columns,\n",
    "    'importance': xgb_fair.feature_importances_\n",
    "}).sort_values('importance', ascending=False)\n",
    "\n",
    "plt.figure(figsize=(10, 6))\n",
    "sns.barplot(x='importance', y='feature', data=feature_importances, palette='rocket')\n",
    "plt.title('Feature Importance for Predicting Future CLV')\n",
    "plt.xlabel('Importance Score')\n",
    "plt.ylabel('Feature')\n",
    "plt.show()\n",
    "\n",
    "print(\"Top 3 most important features for predicting CLV:\")\n",
    "print(feature_importances.head(3))"
   ]
  },
  {
   "cell_type": "code",
   "execution_count": 11,
   "id": "9a18e8ea-3317-4a7a-a8fb-3c989fd3143f",
   "metadata": {},
   "outputs": [
    {
     "name": "stdout",
     "output_type": "stream",
     "text": [
      "Data prepared for final CLV model training.\n",
      "Training the final XGBoost CLV model on the full dataset...\n",
      "Model training complete.\n",
      "\n",
      "Model successfully saved to 'models/clv_model.pkl'\n",
      "\n",
      "This file is ready to be loaded by your Flask API to predict future customer value.\n"
     ]
    }
   ],
   "source": [
    "import pandas as pd\n",
    "import numpy as np\n",
    "import xgboost as xgb\n",
    "import joblib\n",
    "from lifetimes.utils import calibration_and_holdout_data\n",
    "\n",
    "# --- 1. Data Preparation ---\n",
    "# Load the raw transaction data\n",
    "df = pd.read_csv('data/olist_prepared_dataset.csv')\n",
    "transactions = df[['customer_unique_id', 'order_purchase_timestamp', 'payment_value']]\n",
    "transactions.columns = ['customer_id', 'date', 'monetary_value']\n",
    "transactions['date'] = pd.to_datetime(transactions['date'])\n",
    "\n",
    "# Create the calibration/holdout dataset. This is the dataset our model will learn from.\n",
    "# The features are from the \"calibration\" period (history)\n",
    "# The target is from the \"holdout\" period (future)\n",
    "summary_cal_holdout = calibration_and_holdout_data(\n",
    "    transactions,\n",
    "    customer_id_col='customer_id',\n",
    "    datetime_col='date',\n",
    "    monetary_value_col='monetary_value',\n",
    "    observation_period_end=transactions['date'].max(),\n",
    "    freq='D',\n",
    "    calibration_period_end=transactions['date'].max() - pd.Timedelta(days=90)\n",
    ")\n",
    "\n",
    "# Define features and target\n",
    "features = ['frequency_cal', 'recency_cal', 'T_cal', 'monetary_value_cal']\n",
    "target = 'monetary_value_holdout'\n",
    "\n",
    "X = summary_cal_holdout[features]\n",
    "y = summary_cal_holdout[target]\n",
    "\n",
    "print(\"Data prepared for final CLV model training.\")\n",
    "\n",
    "\n",
    "# --- 2. Define and Train the Final Model ---\n",
    "# We use the best hyperparameters found in your final analysis.\n",
    "# This model will be trained on the entire dataset (X, y) to make it as robust as possible.\n",
    "final_clv_model = xgb.XGBRegressor(\n",
    "    subsample=0.8,\n",
    "    n_estimators=100,\n",
    "    max_depth=3,\n",
    "    learning_rate=0.05,\n",
    "    random_state=42\n",
    ")\n",
    "\n",
    "print(\"Training the final XGBoost CLV model on the full dataset...\")\n",
    "final_clv_model.fit(X, y)\n",
    "print(\"Model training complete.\")\n",
    "\n",
    "\n",
    "# --- 3. Save the Model ---\n",
    "# The final, trained XGBoost model is saved to a single file.\n",
    "file_path = 'models/clv_model.pkl'\n",
    "joblib.dump(final_clv_model, file_path)\n",
    "\n",
    "print(f\"\\nModel successfully saved to '{file_path}'\")\n",
    "print(\"\\nThis file is ready to be loaded by your Flask API to predict future customer value.\")"
   ]
  }
 ],
 "metadata": {
  "kernelspec": {
   "display_name": "Python(my-env)",
   "language": "python",
   "name": "my-env"
  },
  "language_info": {
   "codemirror_mode": {
    "name": "ipython",
    "version": 3
   },
   "file_extension": ".py",
   "mimetype": "text/x-python",
   "name": "python",
   "nbconvert_exporter": "python",
   "pygments_lexer": "ipython3",
   "version": "3.9.21"
  }
 },
 "nbformat": 4,
 "nbformat_minor": 5
}
