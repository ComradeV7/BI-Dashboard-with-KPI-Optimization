{
 "cells": [
  {
   "cell_type": "code",
   "execution_count": 2,
   "id": "626591f8-54d1-4835-bba8-e9f73038d3e2",
   "metadata": {},
   "outputs": [
    {
     "name": "stdout",
     "output_type": "stream",
     "text": [
      "Data prepared for Delivery Time prediction.\n",
      "Training data shape: (90567, 6)\n",
      "Testing data shape: (22642, 6)\n"
     ]
    }
   ],
   "source": [
    "import pandas as pd\n",
    "import numpy as np\n",
    "from sklearn.model_selection import train_test_split, RandomizedSearchCV\n",
    "from sklearn.preprocessing import StandardScaler, OneHotEncoder\n",
    "from sklearn.compose import ColumnTransformer\n",
    "from sklearn.pipeline import Pipeline\n",
    "from sklearn.linear_model import LinearRegression\n",
    "from sklearn.ensemble import RandomForestRegressor\n",
    "import xgboost as xgb\n",
    "from sklearn.metrics import mean_absolute_error, r2_score\n",
    "from sklearn.impute import SimpleImputer\n",
    "\n",
    "# Load the dataset\n",
    "df = pd.read_csv('data/olist_prepared_dataset.csv')\n",
    "\n",
    "df['product_volume_cm3'] = df['product_length_cm'] * df['product_height_cm'] * df['product_width_cm']\n",
    "# Convert date columns to datetime objects\n",
    "df['order_purchase_timestamp'] = pd.to_datetime(df['order_purchase_timestamp'])\n",
    "df['order_delivered_customer_date'] = pd.to_datetime(df['order_delivered_customer_date'])\n",
    "\n",
    "# Engineer the target variable: delivery_time_days\n",
    "df['delivery_time_days'] = (df['order_delivered_customer_date'] - df['order_purchase_timestamp']).dt.days\n",
    "\n",
    "# Clean the data: remove orders with no delivery date or negative delivery time\n",
    "df.dropna(subset=['delivery_time_days'], inplace=True)\n",
    "df = df[df['delivery_time_days'] >= 0]\n",
    "\n",
    "numerical_features = ['freight_value', 'product_weight_g', 'product_volume_cm3']\n",
    "categorical_features = ['seller_state', 'customer_state', 'product_category_name_english']\n",
    "target = 'delivery_time_days'\n",
    "\n",
    "X = df[numerical_features + categorical_features]\n",
    "y = df[target]\n",
    "\n",
    "X_train, X_test, y_train, y_test = train_test_split(X, y, test_size=0.2, random_state=42)\n",
    "\n",
    "# Create preprocessing pipelines for numerical and categorical features\n",
    "numerical_transformer = Pipeline(steps=[('imputer', SimpleImputer(strategy='median')), ('scaler', StandardScaler())])\n",
    "categorical_transformer = Pipeline(steps=[('imputer', SimpleImputer(strategy='most_frequent')), ('onehot', OneHotEncoder(handle_unknown='ignore'))])\n",
    "preprocessor = ColumnTransformer(\n",
    "    transformers=[\n",
    "        ('num', numerical_transformer, numerical_features),\n",
    "        ('cat', categorical_transformer, categorical_features)\n",
    "    ])\n",
    "\n",
    "print(\"Data prepared for Delivery Time prediction.\")\n",
    "print(f\"Training data shape: {X_train.shape}\")\n",
    "print(f\"Testing data shape: {X_test.shape}\")\n"
   ]
  },
  {
   "cell_type": "code",
   "execution_count": 3,
   "id": "0e6edbe3-8e20-4687-8fad-a2fc9fd76f18",
   "metadata": {},
   "outputs": [
    {
     "name": "stdout",
     "output_type": "stream",
     "text": [
      "\n",
      "Training Linear Regression...\n",
      "Linear Regression MAE: 5.38 days | R-squared: 0.20\n"
     ]
    }
   ],
   "source": [
    "# Model 1: Linear Regression (Baseline)\n",
    "print(\"\\nTraining Linear Regression...\")\n",
    "pipeline_lr = Pipeline(steps=[('preprocessor', preprocessor), ('regressor', LinearRegression())])\n",
    "pipeline_lr.fit(X_train, y_train)\n",
    "y_pred_lr = pipeline_lr.predict(X_test)\n",
    "mae_lr = mean_absolute_error(y_test, y_pred_lr)\n",
    "r2_lr = r2_score(y_test, y_pred_lr)\n",
    "print(f\"Linear Regression MAE: {mae_lr:.2f} days | R-squared: {r2_lr:.2f}\")"
   ]
  },
  {
   "cell_type": "code",
   "execution_count": 4,
   "id": "b36dacd7-5486-4e18-98ac-b47e60f88747",
   "metadata": {},
   "outputs": [
    {
     "name": "stdout",
     "output_type": "stream",
     "text": [
      "\n",
      "Tuning Random Forest Regressor...\n",
      "Fitting 3 folds for each of 2 candidates, totalling 6 fits\n",
      "\n",
      "Best Parameters for Random Forest: {'regressor__n_estimators': 200, 'regressor__max_depth': 20}\n",
      "Tuned Random Forest MAE: 4.88 days | R-squared: 0.28\n"
     ]
    }
   ],
   "source": [
    "# Model 2: Random Forest Regressor (Tuning)\n",
    "print(\"\\nTuning Random Forest Regressor...\")\n",
    "pipeline_rf = Pipeline(steps=[('preprocessor', preprocessor), ('regressor', RandomForestRegressor(random_state=42))])\n",
    "param_grid_rf = {'regressor__n_estimators': [100, 200], 'regressor__max_depth': [10, 20]}\n",
    "random_search_rf = RandomizedSearchCV(pipeline_rf, param_grid_rf, n_iter=2, cv=3, n_jobs=-1, verbose=1, random_state=42)\n",
    "random_search_rf.fit(X_train, y_train)\n",
    "best_rf = random_search_rf.best_estimator_\n",
    "y_pred_rf = best_rf.predict(X_test)\n",
    "mae_rf = mean_absolute_error(y_test, y_pred_rf)\n",
    "r2_rf = r2_score(y_test, y_pred_rf)\n",
    "print(\"\\nBest Parameters for Random Forest:\", random_search_rf.best_params_)\n",
    "print(f\"Tuned Random Forest MAE: {mae_rf:.2f} days | R-squared: {r2_rf:.2f}\")"
   ]
  },
  {
   "cell_type": "code",
   "execution_count": 5,
   "id": "4d111e5b-19e0-4732-8120-ac09b2834de8",
   "metadata": {},
   "outputs": [
    {
     "name": "stdout",
     "output_type": "stream",
     "text": [
      "\n",
      "Tuning XGBoost Regressor...\n",
      "Fitting 3 folds for each of 2 candidates, totalling 6 fits\n",
      "\n",
      "Best Parameters for XGBoost: {'regressor__n_estimators': 500, 'regressor__learning_rate': 0.1}\n",
      "Tuned XGBoost MAE: 4.99 days | R-squared: 0.27\n"
     ]
    }
   ],
   "source": [
    "# --- Model 3: XGBoost Regressor (Tuning) ---\n",
    "print(\"\\nTuning XGBoost Regressor...\")\n",
    "pipeline_xgb = Pipeline(steps=[('preprocessor', preprocessor), ('regressor', xgb.XGBRegressor(random_state=42))])\n",
    "param_grid_xgb = {'regressor__n_estimators': [100, 500], 'regressor__learning_rate': [0.05, 0.1]}\n",
    "random_search_xgb = RandomizedSearchCV(pipeline_xgb, param_grid_xgb, n_iter=2, cv=3, n_jobs=-1, verbose=1, random_state=42)\n",
    "random_search_xgb.fit(X_train, y_train)\n",
    "best_xgb = random_search_xgb.best_estimator_\n",
    "y_pred_xgb = best_xgb.predict(X_test)\n",
    "mae_xgb = mean_absolute_error(y_test, y_pred_xgb)\n",
    "r2_xgb = r2_score(y_test, y_pred_xgb)\n",
    "print(\"\\nBest Parameters for XGBoost:\", random_search_xgb.best_params_)\n",
    "print(f\"Tuned XGBoost MAE: {mae_xgb:.2f} days | R-squared: {r2_xgb:.2f}\")"
   ]
  },
  {
   "cell_type": "markdown",
   "id": "25ede808-288d-4d31-9f77-c51545f4a702",
   "metadata": {},
   "source": [
    "-> Random Forest Regressor is best model for Delivery Time Prediction\n",
    "\n",
    "Model Performance: The Tuned Random Forest Regressor demonstrated the best performance, achieving the lowest MAE of 4.88 days and the highest R² of 0.28. Both ensemble methods (Random Forest and XGBoost) significantly outperformed the Linear Regression baseline, indicating that the relationships between the features and the delivery time are predominantly non-linear.\n",
    "\n",
    "Algorithmic Interpretation: The marginal performance difference between Random Forest and XGBoost suggests both models have a similar capacity to capture the patterns in this dataset. Random Forest's slight edge may indicate its robustness in this specific feature space; as a bagging model, it may have been less prone to overfitting on noisy logistical data compared to the sequential error-correcting approach of boosting used by XGBoost."
   ]
  },
  {
   "cell_type": "code",
   "execution_count": 14,
   "id": "c9bcbb4a-58e7-4893-9973-46f1869e9599",
   "metadata": {},
   "outputs": [
    {
     "data": {
      "image/png": "[encoded data removed]",
      "text/plain": [
       "<Figure size 1200x800 with 1 Axes>"
      ]
     },
     "metadata": {},
     "output_type": "display_data"
    },
    {
     "name": "stdout",
     "output_type": "stream",
     "text": [
      "\n",
      "Top 3 most important features:\n",
      "               feature  importance\n",
      "0        freight_value    0.225960\n",
      "50   customer_state_SP    0.202942\n",
      "2   product_volume_cm3    0.140477\n"
     ]
    }
   ],
   "source": [
    "import matplotlib.pyplot as plt\n",
    "import seaborn as sns\n",
    "\n",
    "ohe_feature_names = best_rf.named_steps['preprocessor'].transformers_[1][1].named_steps['onehot'].get_feature_names_out(categorical_features)\n",
    "all_feature_names = numerical_features + list(ohe_feature_names)\n",
    "\n",
    "# Create a DataFrame of the feature importances\n",
    "importances = best_rf.named_steps['regressor'].feature_importances_\n",
    "feature_importance_df = pd.DataFrame({\n",
    "    'feature': all_feature_names,\n",
    "    'importance': importances\n",
    "}).sort_values('importance', ascending=False)\n",
    "\n",
    "# Plot the Top 15 most important features\n",
    "plt.figure(figsize=(12, 8))\n",
    "sns.barplot(x='importance', y='feature', data=feature_importance_df.head(5), palette='plasma', hue='feature', legend=False)\n",
    "plt.title('Top 5 Features for Predicting Delivery Time')\n",
    "plt.xlabel('Importance Score')\n",
    "plt.ylabel('Feature')\n",
    "plt.show()\n",
    "\n",
    "print(\"\\nTop 3 most important features:\")\n",
    "print(feature_importance_df.head(3))"
   ]
  },
  {
   "cell_type": "markdown",
   "id": "e6d3b6b9-da7a-4546-9e73-ce2ca5dc9143",
   "metadata": {},
   "source": [
    "**freight value is the shipping cost that the customer paid to have their order delivered."
   ]
  },
  {
   "cell_type": "code",
   "execution_count": 15,
   "id": "4762d75b-ab2c-46e0-9a94-14890448e0c7",
   "metadata": {},
   "outputs": [
    {
     "name": "stdout",
     "output_type": "stream",
     "text": [
      "Data prepared for final Delivery Time model training.\n",
      "Training the final Random Forest model on the full dataset...\n",
      "Model training complete.\n",
      "\n",
      "Model successfully saved to 'models/delivery_model.pkl'\n",
      "\n",
      "This file now contains your complete prediction pipeline and is ready for the Flask API.\n"
     ]
    }
   ],
   "source": [
    "import pandas as pd\n",
    "import numpy as np\n",
    "import joblib\n",
    "from sklearn.model_selection import train_test_split\n",
    "from sklearn.preprocessing import StandardScaler, OneHotEncoder\n",
    "from sklearn.compose import ColumnTransformer\n",
    "from sklearn.pipeline import Pipeline\n",
    "from sklearn.impute import SimpleImputer\n",
    "from sklearn.ensemble import RandomForestRegressor\n",
    "\n",
    "# --- 1. Data Preparation ---\n",
    "# Load the dataset\n",
    "df = pd.read_csv('data/olist_prepared_dataset.csv')\n",
    "\n",
    "# Engineer the 'product_volume_cm3' feature\n",
    "df['product_volume_cm3'] = df['product_length_cm'] * df['product_height_cm'] * df['product_width_cm']\n",
    "\n",
    "# Convert date columns and create the target variable 'delivery_time_days'\n",
    "df['order_purchase_timestamp'] = pd.to_datetime(df['order_purchase_timestamp'])\n",
    "df['order_delivered_customer_date'] = pd.to_datetime(df['order_delivered_customer_date'])\n",
    "df['delivery_time_days'] = (df['order_delivered_customer_date'] - df['order_purchase_timestamp']).dt.days\n",
    "\n",
    "# Clean the data: remove orders with no delivery date or negative delivery time\n",
    "df.dropna(subset=['delivery_time_days'], inplace=True)\n",
    "df = df[df['delivery_time_days'] >= 0]\n",
    "\n",
    "# Define features and target\n",
    "numerical_features = ['freight_value', 'product_weight_g', 'product_volume_cm3']\n",
    "categorical_features = ['seller_state', 'customer_state', 'product_category_name_english']\n",
    "features = numerical_features + categorical_features\n",
    "target = 'delivery_time_days'\n",
    "\n",
    "X = df[features]\n",
    "y = df[target]\n",
    "\n",
    "print(\"Data prepared for final Delivery Time model training.\")\n",
    "\n",
    "\n",
    "# --- 2. Define and Train the Final Model ---\n",
    "\n",
    "# Create preprocessing pipelines for numerical and categorical data\n",
    "numerical_transformer = Pipeline(steps=[\n",
    "    ('imputer', SimpleImputer(strategy='median')),\n",
    "    ('scaler', StandardScaler())\n",
    "])\n",
    "\n",
    "categorical_transformer = Pipeline(steps=[\n",
    "    ('imputer', SimpleImputer(strategy='most_frequent')),\n",
    "    ('onehot', OneHotEncoder(handle_unknown='ignore'))\n",
    "])\n",
    "\n",
    "# Create a preprocessor object using ColumnTransformer\n",
    "preprocessor = ColumnTransformer(\n",
    "    transformers=[\n",
    "        ('num', numerical_transformer, numerical_features),\n",
    "        ('cat', categorical_transformer, categorical_features)\n",
    "    ])\n",
    "\n",
    "# Create the final model pipeline, including the preprocessor and the regressor\n",
    "# Use the best hyperparameters you found during your analysis\n",
    "final_delivery_model = Pipeline(steps=[\n",
    "    ('preprocessor', preprocessor),\n",
    "    ('regressor', RandomForestRegressor(\n",
    "        n_estimators=200,  # Best parameter from your analysis\n",
    "        max_depth=20,       # Best parameter from your analysis\n",
    "        random_state=42,\n",
    "        n_jobs=-1\n",
    "    ))\n",
    "])\n",
    "\n",
    "print(\"Training the final Random Forest model on the full dataset...\")\n",
    "# We train on the entire dataset (X, y) to make the model as robust as possible\n",
    "final_delivery_model.fit(X, y)\n",
    "print(\"Model training complete.\")\n",
    "\n",
    "\n",
    "# --- 3. Save the Model ---\n",
    "# The entire pipeline (preprocessing + model) is saved to a single file.\n",
    "file_path = 'models/delivery_model.pkl'\n",
    "joblib.dump(final_delivery_model, file_path)\n",
    "\n",
    "print(f\"\\nModel successfully saved to '{file_path}'\")\n",
    "print(\"\\nThis file now contains your complete prediction pipeline and is ready for the Flask API.\")"
   ]
  }
 ],
 "metadata": {
  "kernelspec": {
   "display_name": "Python(my-env)",
   "language": "python",
   "name": "my-env"
  },
  "language_info": {
   "codemirror_mode": {
    "name": "ipython",
    "version": 3
   },
   "file_extension": ".py",
   "mimetype": "text/x-python",
   "name": "python",
   "nbconvert_exporter": "python",
   "pygments_lexer": "ipython3",
   "version": "3.9.21"
  }
 },
 "nbformat": 4,
 "nbformat_minor": 5
}
