{
 "cells": [
  {
   "cell_type": "code",
   "execution_count": 6,
   "id": "f23a4ccf-66b8-4569-bcbc-772a53e25ed3",
   "metadata": {},
   "outputs": [],
   "source": [
    "import pandas as pd\n",
    "from sklearn.model_selection import train_test_split\n",
    "from sklearn.model_selection import train_test_split, GridSearchCV, RandomizedSearchCV\n",
    "from sklearn.preprocessing import StandardScaler\n",
    "from sklearn.linear_model import LogisticRegression\n",
    "from sklearn.ensemble import RandomForestClassifier\n",
    "import xgboost as xgb\n",
    "from sklearn.metrics import accuracy_score, precision_score, recall_score, f1_score, classification_report\n",
    "\n",
    "df = pd.read_csv('data/olist_prepared_dataset.csv')"
   ]
  },
  {
   "cell_type": "code",
   "execution_count": 7,
   "id": "5bdf970c-2b5d-47b3-a74a-5692426d62aa",
   "metadata": {},
   "outputs": [
    {
     "name": "stdout",
     "output_type": "stream",
     "text": [
      "Data successfully prepared and split for modeling.\n",
      "Training data shape: (73183, 5)\n",
      "Testing data shape: (18296, 5)\n"
     ]
    }
   ],
   "source": [
    "# We will use a unique customer-level dataset for churn prediction\n",
    "customer_df = df.drop_duplicates(subset=['customer_unique_id'])\n",
    "\n",
    "# Select features (X) and target (y)\n",
    "features = [\n",
    "     'frequency', 'monetary',\n",
    "    'review_score', 'delivery_delay', 'payment_installments'\n",
    "]\n",
    "target = 'is_churned'\n",
    "\n",
    "X = customer_df[features].copy()\n",
    "y = customer_df[target]\n",
    "\n",
    "# Handle any potential missing values in our selected features\n",
    "X.fillna(X.median(), inplace=True)\n",
    "\n",
    "\n",
    "\n",
    "# Split the data into 80% for training and 20% for testing\n",
    "X_train, X_test, y_train, y_test = train_test_split(X, y, test_size=0.2, random_state=42, stratify=y)\n",
    "\n",
    "\n",
    "# Scale numerical features for models like Logistic Regression\n",
    "scaler = StandardScaler()\n",
    "X_train = scaler.fit_transform(X_train)\n",
    "X_test = scaler.transform(X_test)\n",
    "\n",
    "\n",
    "print(\"Data successfully prepared and split for modeling.\")\n",
    "print(\"Training data shape:\", X_train.shape)\n",
    "print(\"Testing data shape:\", X_test.shape)"
   ]
  },
  {
   "cell_type": "code",
   "execution_count": 8,
   "id": "2368e86e-329e-45d5-b553-6d3efc6e5358",
   "metadata": {},
   "outputs": [
    {
     "name": "stdout",
     "output_type": "stream",
     "text": [
      "\n",
      "Training Logistic Regression Model...\n",
      "Evaluation for Logistic Regression:\n",
      "              precision    recall  f1-score   support\n",
      "\n",
      "      Active       0.43      0.00      0.01      7519\n",
      "     Churned       0.59      1.00      0.74     10777\n",
      "\n",
      "    accuracy                           0.59     18296\n",
      "   macro avg       0.51      0.50      0.37     18296\n",
      "weighted avg       0.52      0.59      0.44     18296\n",
      "\n"
     ]
    }
   ],
   "source": [
    "# Model 1: Logistic Regression (Baseline)\n",
    "print(\"\\nTraining Logistic Regression Model...\")\n",
    "log_reg = LogisticRegression(random_state=42)\n",
    "log_reg.fit(X_train, y_train)\n",
    "y_pred_log_reg = log_reg.predict(X_test)\n",
    "\n",
    "print(\"Evaluation for Logistic Regression:\")\n",
    "print(classification_report(y_test, y_pred_log_reg, target_names=['Active', 'Churned']))"
   ]
  },
  {
   "cell_type": "code",
   "execution_count": 9,
   "id": "1b8a5e02-0302-47c2-91eb-f3e057dd6701",
   "metadata": {},
   "outputs": [
    {
     "name": "stdout",
     "output_type": "stream",
     "text": [
      "\n",
      "Training Random Forest Model...\n",
      "Evaluation for Random Forest:\n",
      "              precision    recall  f1-score   support\n",
      "\n",
      "      Active       0.48      0.45      0.47      7519\n",
      "     Churned       0.63      0.65      0.64     10777\n",
      "\n",
      "    accuracy                           0.57     18296\n",
      "   macro avg       0.55      0.55      0.55     18296\n",
      "weighted avg       0.57      0.57      0.57     18296\n",
      "\n"
     ]
    }
   ],
   "source": [
    "# Model 2: Random Forest Classifier\n",
    "print(\"\\nTraining Random Forest Model...\")\n",
    "rf = RandomForestClassifier(n_estimators=100, random_state=42, n_jobs=-1)\n",
    "rf.fit(X_train, y_train)\n",
    "y_pred_rf = rf.predict(X_test)\n",
    "\n",
    "print(\"Evaluation for Random Forest:\")\n",
    "print(classification_report(y_test, y_pred_rf, target_names=['Active', 'Churned']))"
   ]
  },
  {
   "cell_type": "code",
   "execution_count": 10,
   "id": "12f33a06-3fda-4561-8102-06eb79ccc1b5",
   "metadata": {},
   "outputs": [
    {
     "name": "stdout",
     "output_type": "stream",
     "text": [
      "\n",
      "Training XGBoost Model...\n",
      "Evaluation for XGBoost:\n",
      "              precision    recall  f1-score   support\n",
      "\n",
      "      Active       0.56      0.30      0.39      7519\n",
      "     Churned       0.63      0.84      0.72     10777\n",
      "\n",
      "    accuracy                           0.62     18296\n",
      "   macro avg       0.60      0.57      0.56     18296\n",
      "weighted avg       0.60      0.62      0.59     18296\n",
      "\n"
     ]
    }
   ],
   "source": [
    "# Model 3: XGBoost Classifier\n",
    "print(\"\\nTraining XGBoost Model...\")\n",
    "xgboost = xgb.XGBClassifier(objective='binary:logistic', eval_metric='logloss', random_state=42)\n",
    "xgboost.fit(X_train, y_train)\n",
    "y_pred_xgb = xgboost.predict(X_test)\n",
    "\n",
    "print(\"Evaluation for XGBoost:\")\n",
    "print(classification_report(y_test, y_pred_xgb, target_names=['Active', 'Churned']))"
   ]
  },
  {
   "cell_type": "code",
   "execution_count": 11,
   "id": "d29e7757-0860-4c5a-9615-76a61bc6b4af",
   "metadata": {},
   "outputs": [
    {
     "name": "stdout",
     "output_type": "stream",
     "text": [
      "\n",
      "Tuning Logistic Regression...\n",
      "Fitting 5 folds for each of 10 candidates, totalling 50 fits\n",
      "\n",
      "Best Parameters for Logistic Regression: {'C': 0.01, 'solver': 'liblinear'}\n",
      "Evaluation for Tuned Logistic Regression:\n",
      "              precision    recall  f1-score   support\n",
      "\n",
      "      Active       0.43      0.00      0.01      7519\n",
      "     Churned       0.59      1.00      0.74     10777\n",
      "\n",
      "    accuracy                           0.59     18296\n",
      "   macro avg       0.51      0.50      0.37     18296\n",
      "weighted avg       0.52      0.59      0.44     18296\n",
      "\n"
     ]
    }
   ],
   "source": [
    "print(\"\\nTuning Logistic Regression...\")\n",
    "param_grid_lr = {\n",
    "    'C': [0.01, 0.1, 1, 10, 100],\n",
    "    'solver': ['liblinear', 'saga']\n",
    "}\n",
    "grid_search_lr = GridSearchCV(LogisticRegression(random_state=42), param_grid_lr, cv=5, n_jobs=-1, verbose=1)\n",
    "grid_search_lr.fit(X_train, y_train)\n",
    "\n",
    "best_lr = grid_search_lr.best_estimator_\n",
    "y_pred_lr = best_lr.predict(X_test)\n",
    "print(\"\\nBest Parameters for Logistic Regression:\", grid_search_lr.best_params_)\n",
    "print(\"Evaluation for Tuned Logistic Regression:\")\n",
    "print(classification_report(y_test, y_pred_lr, target_names=['Active', 'Churned']))"
   ]
  },
  {
   "cell_type": "code",
   "execution_count": 12,
   "id": "733cdc2d-56aa-49c3-bf1b-00429136c42f",
   "metadata": {},
   "outputs": [
    {
     "name": "stdout",
     "output_type": "stream",
     "text": [
      "\n",
      "Tuning Random Forest...\n",
      "Fitting 5 folds for each of 25 candidates, totalling 125 fits\n",
      "\n",
      "Best Parameters for Random Forest: {'n_estimators': 100, 'min_samples_split': 2, 'min_samples_leaf': 4, 'max_depth': 10}\n",
      "Evaluation for Tuned Random Forest:\n",
      "              precision    recall  f1-score   support\n",
      "\n",
      "      Active       0.56      0.24      0.34      7519\n",
      "     Churned       0.62      0.87      0.72     10777\n",
      "\n",
      "    accuracy                           0.61     18296\n",
      "   macro avg       0.59      0.56      0.53     18296\n",
      "weighted avg       0.60      0.61      0.57     18296\n",
      "\n"
     ]
    }
   ],
   "source": [
    "print(\"\\nTuning Random Forest...\")\n",
    "param_grid_rf = {\n",
    "    'n_estimators': [100, 200, 300],\n",
    "    'max_depth': [5, 10, 15],\n",
    "    'min_samples_split': [2, 5, 10],\n",
    "    'min_samples_leaf': [1, 2, 4]\n",
    "}\n",
    "random_search_rf = RandomizedSearchCV(RandomForestClassifier(random_state=42), param_grid_rf, n_iter=25, cv=5, n_jobs=-1, verbose=1, random_state=42)\n",
    "random_search_rf.fit(X_train, y_train)\n",
    "\n",
    "best_rf = random_search_rf.best_estimator_\n",
    "y_pred_rf = best_rf.predict(X_test)\n",
    "print(\"\\nBest Parameters for Random Forest:\", random_search_rf.best_params_)\n",
    "print(\"Evaluation for Tuned Random Forest:\")\n",
    "print(classification_report(y_test, y_pred_rf, target_names=['Active', 'Churned']))"
   ]
  },
  {
   "cell_type": "code",
   "execution_count": 13,
   "id": "cd55f3a0-07ce-495e-85f2-858681d45944",
   "metadata": {},
   "outputs": [
    {
     "name": "stdout",
     "output_type": "stream",
     "text": [
      "\n",
      "Tuning XGBoost...\n",
      "Fitting 5 folds for each of 25 candidates, totalling 125 fits\n",
      "\n",
      "Best Parameters for XGBoost: {'subsample': 1.0, 'n_estimators': 200, 'max_depth': 5, 'learning_rate': 0.1, 'colsample_bytree': 1.0}\n",
      "Evaluation for Tuned XGBoost:\n",
      "              precision    recall  f1-score   support\n",
      "\n",
      "      Active       0.57      0.27      0.37      7519\n",
      "     Churned       0.63      0.85      0.72     10777\n",
      "\n",
      "    accuracy                           0.62     18296\n",
      "   macro avg       0.60      0.56      0.55     18296\n",
      "weighted avg       0.60      0.62      0.58     18296\n",
      "\n"
     ]
    }
   ],
   "source": [
    "print(\"\\nTuning XGBoost...\")\n",
    "param_grid_xgb = {\n",
    "    'n_estimators': [100, 200, 300, 400],\n",
    "    'max_depth': [3, 4, 5, 6, 7],\n",
    "    'learning_rate': [0.01, 0.05, 0.1, 0.2],\n",
    "    'subsample': [0.7, 0.8, 0.9, 1.0],\n",
    "    'colsample_bytree': [0.7, 0.8, 0.9, 1.0]\n",
    "}\n",
    "random_search_xgb = RandomizedSearchCV(xgb.XGBClassifier(objective='binary:logistic', eval_metric='logloss', random_state=42), param_grid_xgb, n_iter=25, cv=5, n_jobs=-1, verbose=1, random_state=42)\n",
    "random_search_xgb.fit(X_train, y_train)\n",
    "\n",
    "best_xgb = random_search_xgb.best_estimator_\n",
    "y_pred_xgb = best_xgb.predict(X_test)\n",
    "print(\"\\nBest Parameters for XGBoost:\", random_search_xgb.best_params_)\n",
    "print(\"Evaluation for Tuned XGBoost:\")\n",
    "print(classification_report(y_test, y_pred_xgb, target_names=['Active', 'Churned']))"
   ]
  },
  {
   "cell_type": "markdown",
   "id": "d0ca9bb5-2754-45a4-8b70-054d9a7e9334",
   "metadata": {},
   "source": [
    "-> XGBoost is the best Model for Customer Churn Prediction\n",
    "\n",
    "Why Logistic Regression Fails: The tuned Logistic Regression model is not a viable option. Its recall for the \"Active\" class is 0.00. This means the model has learned a trivial rule: \"predict that almost every customer will churn.\" While this makes it seem good at finding churners, it's useless in a real-world scenario as it would have you spending money to retain your entire customer base, including the most loyal ones.\n",
    "\n",
    "The Real Contest: Random Forest vs. XGBoost:\n",
    "\n",
    "Finding Churners (The Main Goal): Both models are equally effective at identifying customers who will churn. They both have an excellent F1-Score of 0.72 for the \"Churned\" class.\n",
    "\n",
    "The Tie-Breaker (Avoiding Mistakes): The key difference is in how they handle active customers. The XGBoost model is slightly better at correctly identifying customers who are not going to churn. This is reflected in its higher F1-score for the \"Active\" class (0.37 vs. 0.34) and its higher overall accuracy (62% vs. 61%).\n",
    "\n",
    "Inference: The analysis reveals that while multiple advanced models can effectively identify at-risk customers, the Tuned XGBoost model provides the most balanced and reliable performance. It is not only great at flagging potential churners but is also slightly more discerning, leading to fewer \"false alarms\" where loyal customers are incorrectly targeted. This makes it the most cost-effective and efficient choice."
   ]
  },
  {
   "cell_type": "code",
   "execution_count": 14,
   "id": "573cf9b3-6941-4f70-94c1-4ef913dac9c9",
   "metadata": {},
   "outputs": [
    {
     "data": {
      "image/png": "[encoded data removed]",
      "text/plain": [
       "<Figure size 1200x800 with 1 Axes>"
      ]
     },
     "metadata": {},
     "output_type": "display_data"
    },
    {
     "name": "stdout",
     "output_type": "stream",
     "text": [
      "Top 3 most important features for predicting churn:\n",
      "          feature  importance\n",
      "3  delivery_delay    0.278675\n",
      "2    review_score    0.254501\n",
      "1        monetary    0.200996\n"
     ]
    }
   ],
   "source": [
    "import matplotlib.pyplot as plt\n",
    "import seaborn as sns\n",
    "\n",
    "# Create a DataFrame of the feature importances\n",
    "# The model object has a 'feature_importances_' attribute\n",
    "feature_importances = pd.DataFrame({\n",
    "    'feature': features, # This is the list of feature names from the previous step\n",
    "    'importance': best_xgb.feature_importances_\n",
    "}).sort_values('importance', ascending=False)\n",
    "\n",
    "\n",
    "#Visualize the Feature Importances \n",
    "plt.figure(figsize=(12, 8))\n",
    "sns.barplot(x='importance', y='feature', data=feature_importances, palette='viridis', hue='feature', legend = False)\n",
    "plt.title('Feature Importance for Predicting Customer Churn')\n",
    "plt.xlabel('Importance Score')\n",
    "plt.ylabel('Feature')\n",
    "plt.show()\n",
    "\n",
    "print(\"Top 3 most important features for predicting churn:\")\n",
    "print(feature_importances.head(3))"
   ]
  },
  {
   "cell_type": "markdown",
   "id": "938b2857-5686-4cb6-a7a3-010c057c7421",
   "metadata": {},
   "source": [
    "Save the MODEL"
   ]
  },
  {
   "cell_type": "code",
   "execution_count": 4,
   "id": "da98e793-66a7-46f9-b955-a1a6bbd1b294",
   "metadata": {},
   "outputs": [
    {
     "name": "stdout",
     "output_type": "stream",
     "text": [
      "Training the final XGBoost churn model on the full dataset...\n"
     ]
    },
    {
     "name": "stderr",
     "output_type": "stream",
     "text": [
      "C:\\Users\\comra\\anaconda3\\envs\\my-env\\lib\\site-packages\\xgboost\\core.py:158: UserWarning: [16:18:42] WARNING: C:\\buildkite-agent\\builds\\buildkite-windows-cpu-autoscaling-group-i-08cbc0333d8d4aae1-1\\xgboost\\xgboost-ci-windows\\src\\learner.cc:740: \n",
      "Parameters: { \"use_label_encoder\" } are not used.\n",
      "\n",
      "  warnings.warn(smsg, UserWarning)\n"
     ]
    },
    {
     "name": "stdout",
     "output_type": "stream",
     "text": [
      "Model training complete.\n",
      "\n",
      "Model successfully saved to 'churn_model.pkl'\n",
      "\n",
      "This file now contains your complete prediction pipeline and is ready for the Flask API.\n"
     ]
    }
   ],
   "source": [
    "import pandas as pd\n",
    "import numpy as np\n",
    "import xgboost as xgb\n",
    "import joblib\n",
    "from sklearn.model_selection import train_test_split\n",
    "from sklearn.preprocessing import StandardScaler\n",
    "from sklearn.pipeline import Pipeline\n",
    "from sklearn.impute import SimpleImputer\n",
    "\n",
    "# --- 1. Data Preparation ---\n",
    "# Load the dataset\n",
    "df = pd.read_csv('data/olist_prepared_dataset.csv')\n",
    "\n",
    "# Create the customer-level dataset for churn modeling\n",
    "customer_df = df.groupby('customer_unique_id').agg(\n",
    "    recency=('recency', 'first'),\n",
    "    frequency=('frequency', 'first'),\n",
    "    monetary=('monetary', 'first'),\n",
    "    avg_review_score=('review_score', 'mean'),\n",
    "    churn=('is_churned', 'first')\n",
    ").reset_index()\n",
    "\n",
    "# Define features and target\n",
    "features = ['recency', 'frequency', 'monetary', 'avg_review_score']\n",
    "target = 'churn'\n",
    "\n",
    "X = customer_df[features]\n",
    "y = customer_df[target]\n",
    "\n",
    "\n",
    "# --- 2. Define and Train the Final Model ---\n",
    "\n",
    "# We'll use a simple pipeline for scaling, as there are no categorical features.\n",
    "# The hyperparameters are the best ones you found during tuning.\n",
    "final_churn_model = Pipeline(steps=[\n",
    "    ('imputer', SimpleImputer(strategy='median')),\n",
    "    ('scaler', StandardScaler()),\n",
    "    ('classifier', xgb.XGBClassifier(\n",
    "        subsample=0.8,\n",
    "        n_estimators=200,\n",
    "        max_depth=3,\n",
    "        learning_rate=0.05,\n",
    "        objective='binary:logistic',\n",
    "        eval_metric='logloss',\n",
    "        use_label_encoder=False,\n",
    "        random_state=42\n",
    "    ))\n",
    "])\n",
    "\n",
    "print(\"Training the final XGBoost churn model on the full dataset...\")\n",
    "# We train on the entire dataset (X, y) to make the model as robust as possible\n",
    "final_churn_model.fit(X, y)\n",
    "print(\"Model training complete.\")\n",
    "\n",
    "\n",
    "# --- 3. Save the Model ---\n",
    "# The model (which is a full pipeline) is saved to a single file.\n",
    "file_path = 'churn_model.pkl'\n",
    "joblib.dump(final_churn_model, file_path)\n",
    "\n",
    "print(f\"\\nModel successfully saved to '{file_path}'\")\n",
    "print(\"\\nThis file now contains your complete prediction pipeline and is ready for the Flask API.\")"
   ]
  }
 ],
 "metadata": {
  "kernelspec": {
   "display_name": "Python(my-env)",
   "language": "python",
   "name": "my-env"
  },
  "language_info": {
   "codemirror_mode": {
    "name": "ipython",
    "version": 3
   },
   "file_extension": ".py",
   "mimetype": "text/x-python",
   "name": "python",
   "nbconvert_exporter": "python",
   "pygments_lexer": "ipython3",
   "version": "3.9.21"
  }
 },
 "nbformat": 4,
 "nbformat_minor": 5
}
